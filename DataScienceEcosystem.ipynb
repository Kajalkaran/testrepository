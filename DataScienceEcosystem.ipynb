{
 "cells": [
  {
   "cell_type": "markdown",
   "id": "a9811f99-df97-4ce2-894b-221abd59daac",
   "metadata": {},
   "source": [
    "# Data Science Tools and Ecosystem"
   ]
  },
  {
   "cell_type": "code",
   "execution_count": 5,
   "id": "0b12cfce-21c0-43a8-b6a5-c4ff48039892",
   "metadata": {},
   "outputs": [
    {
     "name": "stdout",
     "output_type": "stream",
     "text": [
      "In this notebook, Data Science Tools and Ecosystem are summarized.\n"
     ]
    }
   ],
   "source": [
    "print(\"In this notebook, Data Science Tools and Ecosystem are summarized.\") "
   ]
  },
  {
   "cell_type": "markdown",
   "id": "a138fd09-4869-4277-968a-545b3e0e09b7",
   "metadata": {},
   "source": [
    "**Objectives:**\n",
    "* List popular languages in Data Science\n",
    "* Evaluation of simple arithmetic expressions in python\n",
    "* Commonly used libraries by the data scientists"
   ]
  },
  {
   "cell_type": "markdown",
   "id": "08220386-bb8d-420c-87db-783664c70f74",
   "metadata": {},
   "source": [
    "* Some of the popular languages that Data Scientists use are:\n",
    "1. Python\n",
    "2. R\n",
    "3. SQL\n",
    "4. Julia"
   ]
  },
  {
   "cell_type": "markdown",
   "id": "e15de2a0-f929-4651-9afd-719e9b0eeb1b",
   "metadata": {},
   "source": [
    "* Some of the commonly used libraries used by Data Scientists include:\n",
    "1. NumPy\n",
    "2. Pandas\n",
    "3. TensorFlow\n",
    "4. scikitlearn"
   ]
  },
  {
   "cell_type": "markdown",
   "id": "5aa390ef-d6d5-4b43-bb74-e3a6d58ab6e1",
   "metadata": {},
   "source": [
    "|Data Science Tools|\n",
    "|------------------|\n",
    "|Jupyter Notebook|\n",
    "|Spyder|\n",
    " |RStudio|\n"
   ]
  },
  {
   "cell_type": "markdown",
   "id": "e481c55e-6890-49e5-ba9b-9e396a5847d4",
   "metadata": {},
   "source": [
    "### Below are a few examples of evaluating arithmetic expressions in Python"
   ]
  },
  {
   "cell_type": "code",
   "execution_count": 18,
   "id": "10ff677b-d241-4f84-b0a4-7fc13e619c9c",
   "metadata": {},
   "outputs": [],
   "source": [
    "x = 5+3"
   ]
  },
  {
   "cell_type": "code",
   "execution_count": 20,
   "id": "ff217698-9f4b-407f-aaea-927c62c02805",
   "metadata": {},
   "outputs": [
    {
     "name": "stdout",
     "output_type": "stream",
     "text": [
      "8\n"
     ]
    }
   ],
   "source": [
    "print(x)"
   ]
  },
  {
   "cell_type": "code",
   "execution_count": 22,
   "id": "74648f4f-58bd-4077-9b00-ebfd03d83c9f",
   "metadata": {},
   "outputs": [],
   "source": [
    "y= 5*4"
   ]
  },
  {
   "cell_type": "code",
   "execution_count": 24,
   "id": "410b5c49-cd8a-4d65-b463-a6a863be2f0a",
   "metadata": {},
   "outputs": [
    {
     "name": "stdout",
     "output_type": "stream",
     "text": [
      "20\n"
     ]
    }
   ],
   "source": [
    "print(y)"
   ]
  },
  {
   "cell_type": "code",
   "execution_count": 26,
   "id": "b3247130-673c-4282-bfe1-02d8f1b159d3",
   "metadata": {},
   "outputs": [],
   "source": [
    "z =90-12"
   ]
  },
  {
   "cell_type": "code",
   "execution_count": 28,
   "id": "421f081a-a4a7-47f4-b8f9-32e34d023e97",
   "metadata": {},
   "outputs": [
    {
     "name": "stdout",
     "output_type": "stream",
     "text": [
      "78\n"
     ]
    }
   ],
   "source": [
    "print(z)"
   ]
  },
  {
   "cell_type": "code",
   "execution_count": 30,
   "id": "ddbd95f8-a85f-4def-bce3-4eca4a61dc10",
   "metadata": {},
   "outputs": [],
   "source": [
    "# This a simple arithmetic expression to multiply then add integers\n",
    "a = (3*4)+5"
   ]
  },
  {
   "cell_type": "code",
   "execution_count": 32,
   "id": "f00b225e-72e3-41cc-a6f1-64e41d5dbad7",
   "metadata": {},
   "outputs": [
    {
     "name": "stdout",
     "output_type": "stream",
     "text": [
      "17\n"
     ]
    }
   ],
   "source": [
    "print(a)"
   ]
  },
  {
   "cell_type": "code",
   "execution_count": 40,
   "id": "c475b788-3001-44e6-8159-d65c1957cd85",
   "metadata": {},
   "outputs": [],
   "source": [
    "#This will convert 200 minutes to hours by diving by 60\n",
    "x = 200/60"
   ]
  },
  {
   "cell_type": "code",
   "execution_count": 42,
   "id": "572e6a2b-82f6-475f-933e-423d3a793c98",
   "metadata": {},
   "outputs": [
    {
     "name": "stdout",
     "output_type": "stream",
     "text": [
      "3.3333333333333335\n"
     ]
    }
   ],
   "source": [
    "print(x)"
   ]
  },
  {
   "cell_type": "markdown",
   "id": "f23dc29d-260a-44a3-b758-a80d460430f4",
   "metadata": {},
   "source": [
    "## Author\n",
    "Kajal Shah"
   ]
  },
  {
   "cell_type": "code",
   "execution_count": null,
   "id": "b872f65d-f212-48b7-bb55-123f4cc7a48c",
   "metadata": {},
   "outputs": [],
   "source": []
  }
 ],
 "metadata": {
  "kernelspec": {
   "display_name": "anaconda-panel-2023.05-py310",
   "language": "python",
   "name": "conda-env-anaconda-panel-2023.05-py310-py"
  },
  "language_info": {
   "codemirror_mode": {
    "name": "ipython",
    "version": 3
   },
   "file_extension": ".py",
   "mimetype": "text/x-python",
   "name": "python",
   "nbconvert_exporter": "python",
   "pygments_lexer": "ipython3",
   "version": "3.11.5"
  }
 },
 "nbformat": 4,
 "nbformat_minor": 5
}
